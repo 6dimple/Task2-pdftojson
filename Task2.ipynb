{
 "cells": [
  {
   "cell_type": "code",
   "execution_count": 5,
   "id": "ae315af7",
   "metadata": {},
   "outputs": [
    {
     "name": "stdout",
     "output_type": "stream",
     "text": [
      "Data successfully written to output1.json\n"
     ]
    }
   ],
   "source": [
    "import PyPDF2\n",
    "import json\n",
    "\n",
    "def main(file_path, output_path):\n",
    "    with open(file_path, 'rb') as f:\n",
    "        reader = PyPDF2.PdfReader(f)\n",
    "        num_pages = len(reader.pages)\n",
    "        all_text = ''\n",
    "        for page_num in range(num_pages):\n",
    "            page = reader.pages[page_num]\n",
    "            all_text += page.extract_text()\n",
    "\n",
    "    # Process `all_text` to generate your JSON data\n",
    "    # For example, convert it to a dictionary or list\n",
    "    \n",
    "    # Example: Converting to a dictionary\n",
    "    json_data = {\n",
    "        \"text\": all_text,\n",
    "        \"pages\": num_pages\n",
    "    }\n",
    "\n",
    "    # Writing JSON data to file\n",
    "    with open(output_path, 'w', encoding='utf-8') as json_file:\n",
    "        json.dump(json_data, json_file, ensure_ascii=False)\n",
    "\n",
    "    print(f\"Data successfully written to {output_path}\")\n",
    "\n",
    "if __name__ == \"__main__\":\n",
    "    input_pdf = \"Biology2e-WEB_Excerpt.pdf\"  # Replace with your PDF file path\n",
    "    output_json = \"output1.json\"  # Replace with your desired output file path\n",
    "    main(input_pdf, output_json)\n"
   ]
  },
  {
   "cell_type": "code",
   "execution_count": 1,
   "id": "465d8975",
   "metadata": {},
   "outputs": [
    {
     "name": "stdout",
     "output_type": "stream",
     "text": [
      "Requirement already satisfied: Pillow in c:\\users\\dimple\\appdata\\local\\programs\\python\\python37\\lib\\site-packages (9.5.0)\n",
      "Note: you may need to restart the kernel to use updated packages.\n"
     ]
    }
   ],
   "source": [
    "pip install Pillow\n"
   ]
  },
  {
   "cell_type": "code",
   "execution_count": 5,
   "id": "71a1bec2",
   "metadata": {},
   "outputs": [
    {
     "name": "stdout",
     "output_type": "stream",
     "text": [
      "PDF data has been successfully converted to JSON with line spaces and saved as 'output.json'.\n"
     ]
    },
    {
     "name": "stderr",
     "output_type": "stream",
     "text": [
      "c:\\users\\dimple\\appdata\\local\\programs\\python\\python37\\lib\\site-packages\\ipykernel_launcher.py:53: PydanticDeprecatedSince20: The `dict` method is deprecated; use `model_dump` instead. Deprecated in Pydantic V2.0 to be removed in V3.0. See Pydantic V2 Migration Guide at https://errors.pydantic.dev/2.5/migration/\n"
     ]
    }
   ],
   "source": [
    "import fitz  # PyMuPDF\n",
    "import json\n",
    "from pydantic import BaseModel\n",
    "from typing import List, Optional\n",
    "from PIL import Image\n",
    "from io import BytesIO\n",
    "import base64\n",
    "\n",
    "class ImageModel(BaseModel):\n",
    "    page_number: int\n",
    "    image_index: int\n",
    "    image_base64: str\n",
    "\n",
    "class PageModel(BaseModel):\n",
    "    page_number: int\n",
    "    text: str\n",
    "    images: Optional[List[ImageModel]]\n",
    "\n",
    "class PDFModel(BaseModel):\n",
    "    file_name: str\n",
    "    pages: List[PageModel]\n",
    "\n",
    "def extract_text_and_images(pdf_path: str) -> PDFModel:\n",
    "    doc = fitz.open(pdf_path)\n",
    "    pdf_data = PDFModel(file_name=pdf_path, pages=[])\n",
    "\n",
    "    for page_number in range(len(doc)):\n",
    "        page = doc[page_number]\n",
    "        text = page.get_text(\"text\")\n",
    "        images = []\n",
    "\n",
    "        for img_index, img in enumerate(page.get_images(full=True)):\n",
    "            xref = img[0]\n",
    "            base_image = doc.extract_image(xref)\n",
    "            image_bytes = base_image[\"image\"]\n",
    "\n",
    "            # Convert image to base64\n",
    "            img_base64 = base64.b64encode(image_bytes).decode('utf-8')\n",
    "            images.append(ImageModel(page_number=page_number, image_index=img_index, image_base64=img_base64))\n",
    "\n",
    "        page_data = PageModel(page_number=page_number, text=text, images=images)\n",
    "        pdf_data.pages.append(page_data)\n",
    "\n",
    "    return pdf_data\n",
    "\n",
    "# Specify the PDF file path\n",
    "pdf_file_path = 'Biology2e-WEB_Excerpt.pdf'\n",
    "\n",
    "# Extract data and convert to JSON\n",
    "pdf_data = extract_text_and_images(pdf_file_path)\n",
    "\n",
    "# Convert to JSON using the json module\n",
    "pdf_dict = pdf_data.dict()\n",
    "pdf_json = json.dumps(pdf_dict, indent=4)\n",
    "\n",
    "# Adding line spaces between different sections in the JSON string\n",
    "pdf_json_with_spaces = pdf_json.replace('},', '},\\n')\n",
    "\n",
    "# Save JSON to a file\n",
    "with open('output.json', 'w') as f:\n",
    "    f.write(pdf_json_with_spaces)\n",
    "\n",
    "print(\"PDF data has been successfully converted to JSON with line spaces and saved as 'output.json'.\")"
   ]
  },
  {
   "cell_type": "code",
   "execution_count": 8,
   "id": "843db91c",
   "metadata": {},
   "outputs": [
    {
     "name": "stdout",
     "output_type": "stream",
     "text": [
      "PDF data has been successfully converted to JSON with line spaces and saved as 'output.json'.\n"
     ]
    },
    {
     "name": "stderr",
     "output_type": "stream",
     "text": [
      "c:\\users\\dimple\\appdata\\local\\programs\\python\\python37\\lib\\site-packages\\ipykernel_launcher.py:52: PydanticDeprecatedSince20: The `dict` method is deprecated; use `model_dump` instead. Deprecated in Pydantic V2.0 to be removed in V3.0. See Pydantic V2 Migration Guide at https://errors.pydantic.dev/2.5/migration/\n"
     ]
    }
   ],
   "source": [
    "import fitz  # PyMuPDF\n",
    "import json\n",
    "from pydantic import BaseModel\n",
    "from typing import List, Optional\n",
    "\n",
    "class ImageModel(BaseModel):\n",
    "    page_number: int\n",
    "    image_index: int\n",
    "    location: str  # Assuming location is a string representing the file path or URL\n",
    "\n",
    "class PageModel(BaseModel):\n",
    "    page_number: int\n",
    "    text: str\n",
    "    images: Optional[List[ImageModel]]\n",
    "\n",
    "class PDFModel(BaseModel):\n",
    "    file_name: str\n",
    "    pages: List[PageModel]\n",
    "\n",
    "def extract_text_and_images(pdf_path: str) -> PDFModel:\n",
    "    doc = fitz.open(pdf_path)\n",
    "    pdf_data = PDFModel(file_name=pdf_path, pages=[])\n",
    "\n",
    "    for page_number in range(len(doc)):\n",
    "        page = doc[page_number]\n",
    "        text = page.get_text(\"text\")\n",
    "        images = []\n",
    "\n",
    "        for img_index, img in enumerate(page.get_images(full=True)):\n",
    "            xref = img[0]\n",
    "            base_image = doc.extract_image(xref)\n",
    "            image_location = f'image_{page_number}_{img_index}.png'  # Example: Generating a location string\n",
    "\n",
    "            # Save the image to a file (optional)\n",
    "            with open(image_location, 'wb') as f:\n",
    "                f.write(base_image['image'])\n",
    "\n",
    "            images.append(ImageModel(page_number=page_number, image_index=img_index, location=image_location))\n",
    "\n",
    "        page_data = PageModel(page_number=page_number, text=text, images=images)\n",
    "        pdf_data.pages.append(page_data)\n",
    "\n",
    "    return pdf_data\n",
    "\n",
    "# Specify the PDF file path\n",
    "pdf_file_path = 'Biology2e-WEB_Excerpt.pdf'\n",
    "\n",
    "# Extract data\n",
    "pdf_data = extract_text_and_images(pdf_file_path)\n",
    "\n",
    "# Convert to JSON using the json module\n",
    "pdf_dict = pdf_data.dict()\n",
    "pdf_json = json.dumps(pdf_dict, indent=4)\n",
    "\n",
    "# Adding line spaces between different sections in the JSON string\n",
    "pdf_json_with_spaces = pdf_json.replace('},', '},\\n')\n",
    "\n",
    "# Save JSON to a file\n",
    "with open('output.json', 'w') as f:\n",
    "    f.write(pdf_json_with_spaces)\n",
    "\n",
    "print(\"PDF data has been successfully converted to JSON with line spaces and saved as 'output.json'.\")\n"
   ]
  },
  {
   "cell_type": "code",
   "execution_count": null,
   "id": "9063f80d",
   "metadata": {},
   "outputs": [],
   "source": []
  }
 ],
 "metadata": {
  "kernelspec": {
   "display_name": "Python 3 (ipykernel)",
   "language": "python",
   "name": "python3"
  },
  "language_info": {
   "codemirror_mode": {
    "name": "ipython",
    "version": 3
   },
   "file_extension": ".py",
   "mimetype": "text/x-python",
   "name": "python",
   "nbconvert_exporter": "python",
   "pygments_lexer": "ipython3",
   "version": "3.7.9"
  }
 },
 "nbformat": 4,
 "nbformat_minor": 5
}
